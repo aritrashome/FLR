{
 "cells": [
  {
   "cell_type": "code",
   "execution_count": 1,
   "metadata": {},
   "outputs": [],
   "source": [
    "import pandas as pd\n",
    "import numpy as np\n",
    "import matplotlib.pyplot as plt"
   ]
  },
  {
   "cell_type": "code",
   "execution_count": 2,
   "metadata": {},
   "outputs": [
    {
     "data": {
      "text/html": [
       "<div>\n",
       "<style scoped>\n",
       "    .dataframe tbody tr th:only-of-type {\n",
       "        vertical-align: middle;\n",
       "    }\n",
       "\n",
       "    .dataframe tbody tr th {\n",
       "        vertical-align: top;\n",
       "    }\n",
       "\n",
       "    .dataframe thead th {\n",
       "        text-align: right;\n",
       "    }\n",
       "</style>\n",
       "<table border=\"1\" class=\"dataframe\">\n",
       "  <thead>\n",
       "    <tr style=\"text-align: right;\">\n",
       "      <th></th>\n",
       "      <th>magnitude</th>\n",
       "      <th>yod</th>\n",
       "      <th>coordinate</th>\n",
       "      <th>row</th>\n",
       "      <th>col</th>\n",
       "      <th>anthrome</th>\n",
       "      <th>prec_2001</th>\n",
       "      <th>prec_2002</th>\n",
       "      <th>prec_2003</th>\n",
       "      <th>prec_2004</th>\n",
       "      <th>...</th>\n",
       "      <th>tmean_2005</th>\n",
       "      <th>tmean_2006</th>\n",
       "      <th>tmean_2007</th>\n",
       "      <th>tmean_2008</th>\n",
       "      <th>tmean_2009</th>\n",
       "      <th>tmean_2010</th>\n",
       "      <th>tmean_2011</th>\n",
       "      <th>tmean_2012</th>\n",
       "      <th>tmean_2013</th>\n",
       "      <th>label</th>\n",
       "    </tr>\n",
       "  </thead>\n",
       "  <tbody>\n",
       "    <tr>\n",
       "      <th>0</th>\n",
       "      <td>245.614029</td>\n",
       "      <td>2001</td>\n",
       "      <td>{\"geodesic\":false,\"type\":\"Point\",\"coordinates\"...</td>\n",
       "      <td>8626</td>\n",
       "      <td>30919</td>\n",
       "      <td>32</td>\n",
       "      <td>796</td>\n",
       "      <td>569</td>\n",
       "      <td>584</td>\n",
       "      <td>955</td>\n",
       "      <td>...</td>\n",
       "      <td>35973</td>\n",
       "      <td>35945</td>\n",
       "      <td>35948</td>\n",
       "      <td>35917</td>\n",
       "      <td>35956</td>\n",
       "      <td>36006</td>\n",
       "      <td>35939</td>\n",
       "      <td>36034</td>\n",
       "      <td>36032</td>\n",
       "      <td>0</td>\n",
       "    </tr>\n",
       "    <tr>\n",
       "      <th>1</th>\n",
       "      <td>218.916199</td>\n",
       "      <td>2001</td>\n",
       "      <td>{\"geodesic\":false,\"type\":\"Point\",\"coordinates\"...</td>\n",
       "      <td>8424</td>\n",
       "      <td>30861</td>\n",
       "      <td>25</td>\n",
       "      <td>715</td>\n",
       "      <td>671</td>\n",
       "      <td>487</td>\n",
       "      <td>834</td>\n",
       "      <td>...</td>\n",
       "      <td>35826</td>\n",
       "      <td>35817</td>\n",
       "      <td>35818</td>\n",
       "      <td>35758</td>\n",
       "      <td>35828</td>\n",
       "      <td>35866</td>\n",
       "      <td>35782</td>\n",
       "      <td>35884</td>\n",
       "      <td>35875</td>\n",
       "      <td>0</td>\n",
       "    </tr>\n",
       "    <tr>\n",
       "      <th>2</th>\n",
       "      <td>624.309326</td>\n",
       "      <td>2001</td>\n",
       "      <td>{\"geodesic\":false,\"type\":\"Point\",\"coordinates\"...</td>\n",
       "      <td>8671</td>\n",
       "      <td>30781</td>\n",
       "      <td>32</td>\n",
       "      <td>2184</td>\n",
       "      <td>2005</td>\n",
       "      <td>2020</td>\n",
       "      <td>2362</td>\n",
       "      <td>...</td>\n",
       "      <td>35537</td>\n",
       "      <td>35532</td>\n",
       "      <td>35540</td>\n",
       "      <td>35513</td>\n",
       "      <td>35556</td>\n",
       "      <td>35584</td>\n",
       "      <td>35529</td>\n",
       "      <td>35582</td>\n",
       "      <td>35575</td>\n",
       "      <td>1</td>\n",
       "    </tr>\n",
       "    <tr>\n",
       "      <th>3</th>\n",
       "      <td>403.655273</td>\n",
       "      <td>2001</td>\n",
       "      <td>{\"geodesic\":false,\"type\":\"Point\",\"coordinates\"...</td>\n",
       "      <td>8637</td>\n",
       "      <td>30894</td>\n",
       "      <td>26</td>\n",
       "      <td>856</td>\n",
       "      <td>636</td>\n",
       "      <td>640</td>\n",
       "      <td>922</td>\n",
       "      <td>...</td>\n",
       "      <td>35966</td>\n",
       "      <td>35940</td>\n",
       "      <td>35946</td>\n",
       "      <td>35913</td>\n",
       "      <td>35952</td>\n",
       "      <td>36001</td>\n",
       "      <td>35935</td>\n",
       "      <td>36027</td>\n",
       "      <td>36024</td>\n",
       "      <td>0</td>\n",
       "    </tr>\n",
       "    <tr>\n",
       "      <th>4</th>\n",
       "      <td>364.548004</td>\n",
       "      <td>2001</td>\n",
       "      <td>{\"geodesic\":false,\"type\":\"Point\",\"coordinates\"...</td>\n",
       "      <td>8641</td>\n",
       "      <td>30876</td>\n",
       "      <td>26</td>\n",
       "      <td>961</td>\n",
       "      <td>713</td>\n",
       "      <td>736</td>\n",
       "      <td>1053</td>\n",
       "      <td>...</td>\n",
       "      <td>35778</td>\n",
       "      <td>35757</td>\n",
       "      <td>35763</td>\n",
       "      <td>35727</td>\n",
       "      <td>35768</td>\n",
       "      <td>35816</td>\n",
       "      <td>35747</td>\n",
       "      <td>35836</td>\n",
       "      <td>35837</td>\n",
       "      <td>0</td>\n",
       "    </tr>\n",
       "  </tbody>\n",
       "</table>\n",
       "<p>5 rows × 50 columns</p>\n",
       "</div>"
      ],
      "text/plain": [
       "    magnitude   yod                                         coordinate   row  \\\n",
       "0  245.614029  2001  {\"geodesic\":false,\"type\":\"Point\",\"coordinates\"...  8626   \n",
       "1  218.916199  2001  {\"geodesic\":false,\"type\":\"Point\",\"coordinates\"...  8424   \n",
       "2  624.309326  2001  {\"geodesic\":false,\"type\":\"Point\",\"coordinates\"...  8671   \n",
       "3  403.655273  2001  {\"geodesic\":false,\"type\":\"Point\",\"coordinates\"...  8637   \n",
       "4  364.548004  2001  {\"geodesic\":false,\"type\":\"Point\",\"coordinates\"...  8641   \n",
       "\n",
       "     col  anthrome  prec_2001  prec_2002  prec_2003  prec_2004  ...  \\\n",
       "0  30919        32        796        569        584        955  ...   \n",
       "1  30861        25        715        671        487        834  ...   \n",
       "2  30781        32       2184       2005       2020       2362  ...   \n",
       "3  30894        26        856        636        640        922  ...   \n",
       "4  30876        26        961        713        736       1053  ...   \n",
       "\n",
       "   tmean_2005  tmean_2006  tmean_2007  tmean_2008  tmean_2009  tmean_2010  \\\n",
       "0       35973       35945       35948       35917       35956       36006   \n",
       "1       35826       35817       35818       35758       35828       35866   \n",
       "2       35537       35532       35540       35513       35556       35584   \n",
       "3       35966       35940       35946       35913       35952       36001   \n",
       "4       35778       35757       35763       35727       35768       35816   \n",
       "\n",
       "   tmean_2011  tmean_2012  tmean_2013  label  \n",
       "0       35939       36034       36032      0  \n",
       "1       35782       35884       35875      0  \n",
       "2       35529       35582       35575      1  \n",
       "3       35935       36027       36024      0  \n",
       "4       35747       35836       35837      0  \n",
       "\n",
       "[5 rows x 50 columns]"
      ]
     },
     "execution_count": 2,
     "metadata": {},
     "output_type": "execute_result"
    }
   ],
   "source": [
    "df = pd.read_csv('Karnataka_final.csv')\n",
    "df.head()"
   ]
  },
  {
   "cell_type": "code",
   "execution_count": 3,
   "metadata": {},
   "outputs": [
    {
     "name": "stdout",
     "output_type": "stream",
     "text": [
      "Index(['anthrome', 'prec_2001', 'prec_2002', 'prec_2003', 'prec_2004',\n",
      "       'prec_2005', 'prec_2006', 'prec_2007', 'prec_2008', 'prec_2009',\n",
      "       'prec_2010', 'prec_2011', 'prec_2012', 'prec_2013', 'pop_2001',\n",
      "       'pop_2002', 'pop_2003', 'pop_2004', 'pop_2005', 'pop_2006', 'pop_2007',\n",
      "       'pop_2008', 'pop_2009', 'pop_2010', 'pop_2011', 'pop_2012', 'pop_2013',\n",
      "       'Soil_Grid__bdod_mean', 'Soil_Grid__cec_mean', 'Soil_Grid__phh2o_mean',\n",
      "       'Soil_Grid__soc_mean', 'tmean_2001', 'tmean_2002', 'tmean_2003',\n",
      "       'tmean_2004', 'tmean_2005', 'tmean_2006', 'tmean_2007', 'tmean_2008',\n",
      "       'tmean_2009', 'tmean_2010', 'tmean_2011', 'tmean_2012', 'tmean_2013'],\n",
      "      dtype='object')\n"
     ]
    },
    {
     "data": {
      "text/html": [
       "<div>\n",
       "<style scoped>\n",
       "    .dataframe tbody tr th:only-of-type {\n",
       "        vertical-align: middle;\n",
       "    }\n",
       "\n",
       "    .dataframe tbody tr th {\n",
       "        vertical-align: top;\n",
       "    }\n",
       "\n",
       "    .dataframe thead th {\n",
       "        text-align: right;\n",
       "    }\n",
       "</style>\n",
       "<table border=\"1\" class=\"dataframe\">\n",
       "  <thead>\n",
       "    <tr style=\"text-align: right;\">\n",
       "      <th></th>\n",
       "      <th>anthrome</th>\n",
       "      <th>prec_2001</th>\n",
       "      <th>prec_2002</th>\n",
       "      <th>prec_2003</th>\n",
       "      <th>prec_2004</th>\n",
       "      <th>prec_2005</th>\n",
       "      <th>prec_2006</th>\n",
       "      <th>prec_2007</th>\n",
       "      <th>prec_2008</th>\n",
       "      <th>prec_2009</th>\n",
       "      <th>...</th>\n",
       "      <th>tmean_2004</th>\n",
       "      <th>tmean_2005</th>\n",
       "      <th>tmean_2006</th>\n",
       "      <th>tmean_2007</th>\n",
       "      <th>tmean_2008</th>\n",
       "      <th>tmean_2009</th>\n",
       "      <th>tmean_2010</th>\n",
       "      <th>tmean_2011</th>\n",
       "      <th>tmean_2012</th>\n",
       "      <th>tmean_2013</th>\n",
       "    </tr>\n",
       "  </thead>\n",
       "  <tbody>\n",
       "    <tr>\n",
       "      <th>0</th>\n",
       "      <td>32</td>\n",
       "      <td>796</td>\n",
       "      <td>569</td>\n",
       "      <td>584</td>\n",
       "      <td>955</td>\n",
       "      <td>1094</td>\n",
       "      <td>611</td>\n",
       "      <td>856</td>\n",
       "      <td>995</td>\n",
       "      <td>679</td>\n",
       "      <td>...</td>\n",
       "      <td>35921</td>\n",
       "      <td>35973</td>\n",
       "      <td>35945</td>\n",
       "      <td>35948</td>\n",
       "      <td>35917</td>\n",
       "      <td>35956</td>\n",
       "      <td>36006</td>\n",
       "      <td>35939</td>\n",
       "      <td>36034</td>\n",
       "      <td>36032</td>\n",
       "    </tr>\n",
       "    <tr>\n",
       "      <th>1</th>\n",
       "      <td>25</td>\n",
       "      <td>715</td>\n",
       "      <td>671</td>\n",
       "      <td>487</td>\n",
       "      <td>834</td>\n",
       "      <td>1286</td>\n",
       "      <td>593</td>\n",
       "      <td>1095</td>\n",
       "      <td>1072</td>\n",
       "      <td>1000</td>\n",
       "      <td>...</td>\n",
       "      <td>35783</td>\n",
       "      <td>35826</td>\n",
       "      <td>35817</td>\n",
       "      <td>35818</td>\n",
       "      <td>35758</td>\n",
       "      <td>35828</td>\n",
       "      <td>35866</td>\n",
       "      <td>35782</td>\n",
       "      <td>35884</td>\n",
       "      <td>35875</td>\n",
       "    </tr>\n",
       "    <tr>\n",
       "      <th>2</th>\n",
       "      <td>32</td>\n",
       "      <td>2184</td>\n",
       "      <td>2005</td>\n",
       "      <td>2020</td>\n",
       "      <td>2362</td>\n",
       "      <td>2098</td>\n",
       "      <td>2506</td>\n",
       "      <td>2905</td>\n",
       "      <td>2008</td>\n",
       "      <td>2162</td>\n",
       "      <td>...</td>\n",
       "      <td>35503</td>\n",
       "      <td>35537</td>\n",
       "      <td>35532</td>\n",
       "      <td>35540</td>\n",
       "      <td>35513</td>\n",
       "      <td>35556</td>\n",
       "      <td>35584</td>\n",
       "      <td>35529</td>\n",
       "      <td>35582</td>\n",
       "      <td>35575</td>\n",
       "    </tr>\n",
       "    <tr>\n",
       "      <th>3</th>\n",
       "      <td>26</td>\n",
       "      <td>856</td>\n",
       "      <td>636</td>\n",
       "      <td>640</td>\n",
       "      <td>922</td>\n",
       "      <td>1058</td>\n",
       "      <td>671</td>\n",
       "      <td>880</td>\n",
       "      <td>897</td>\n",
       "      <td>695</td>\n",
       "      <td>...</td>\n",
       "      <td>35914</td>\n",
       "      <td>35966</td>\n",
       "      <td>35940</td>\n",
       "      <td>35946</td>\n",
       "      <td>35913</td>\n",
       "      <td>35952</td>\n",
       "      <td>36001</td>\n",
       "      <td>35935</td>\n",
       "      <td>36027</td>\n",
       "      <td>36024</td>\n",
       "    </tr>\n",
       "    <tr>\n",
       "      <th>4</th>\n",
       "      <td>26</td>\n",
       "      <td>961</td>\n",
       "      <td>713</td>\n",
       "      <td>736</td>\n",
       "      <td>1053</td>\n",
       "      <td>1172</td>\n",
       "      <td>795</td>\n",
       "      <td>1020</td>\n",
       "      <td>1043</td>\n",
       "      <td>800</td>\n",
       "      <td>...</td>\n",
       "      <td>35730</td>\n",
       "      <td>35778</td>\n",
       "      <td>35757</td>\n",
       "      <td>35763</td>\n",
       "      <td>35727</td>\n",
       "      <td>35768</td>\n",
       "      <td>35816</td>\n",
       "      <td>35747</td>\n",
       "      <td>35836</td>\n",
       "      <td>35837</td>\n",
       "    </tr>\n",
       "  </tbody>\n",
       "</table>\n",
       "<p>5 rows × 44 columns</p>\n",
       "</div>"
      ],
      "text/plain": [
       "   anthrome  prec_2001  prec_2002  prec_2003  prec_2004  prec_2005  prec_2006  \\\n",
       "0        32        796        569        584        955       1094        611   \n",
       "1        25        715        671        487        834       1286        593   \n",
       "2        32       2184       2005       2020       2362       2098       2506   \n",
       "3        26        856        636        640        922       1058        671   \n",
       "4        26        961        713        736       1053       1172        795   \n",
       "\n",
       "   prec_2007  prec_2008  prec_2009  ...  tmean_2004  tmean_2005  tmean_2006  \\\n",
       "0        856        995        679  ...       35921       35973       35945   \n",
       "1       1095       1072       1000  ...       35783       35826       35817   \n",
       "2       2905       2008       2162  ...       35503       35537       35532   \n",
       "3        880        897        695  ...       35914       35966       35940   \n",
       "4       1020       1043        800  ...       35730       35778       35757   \n",
       "\n",
       "   tmean_2007  tmean_2008  tmean_2009  tmean_2010  tmean_2011  tmean_2012  \\\n",
       "0       35948       35917       35956       36006       35939       36034   \n",
       "1       35818       35758       35828       35866       35782       35884   \n",
       "2       35540       35513       35556       35584       35529       35582   \n",
       "3       35946       35913       35952       36001       35935       36027   \n",
       "4       35763       35727       35768       35816       35747       35836   \n",
       "\n",
       "   tmean_2013  \n",
       "0       36032  \n",
       "1       35875  \n",
       "2       35575  \n",
       "3       36024  \n",
       "4       35837  \n",
       "\n",
       "[5 rows x 44 columns]"
      ]
     },
     "execution_count": 3,
     "metadata": {},
     "output_type": "execute_result"
    }
   ],
   "source": [
    "y = np.array(df['label'])\n",
    "df = df.drop(['row','col','coordinate','yod','magnitude', 'label'],axis=1)\n",
    "print(df.columns)\n",
    "df.head()"
   ]
  },
  {
   "cell_type": "code",
   "execution_count": 21,
   "metadata": {},
   "outputs": [
    {
     "data": {
      "text/plain": [
       "count    9000.000000\n",
       "mean        2.577333\n",
       "std         8.370469\n",
       "min         0.000000\n",
       "25%         1.021534\n",
       "50%         1.454076\n",
       "75%         2.365457\n",
       "max       334.441803\n",
       "Name: pop_2010, dtype: float64"
      ]
     },
     "execution_count": 21,
     "metadata": {},
     "output_type": "execute_result"
    }
   ],
   "source": [
    "df['pop_2010'].describe()"
   ]
  },
  {
   "cell_type": "code",
   "execution_count": 4,
   "metadata": {},
   "outputs": [],
   "source": [
    "anthrome_dict = {\n",
    "    255:0,\n",
    "    11:1,12:1, 22:2, 23:2, 24:2, 25:2, 26:2,\n",
    "    31:3, 32:3, 33:3, 34:3, 35:3, 41:4, 42:4, 43:4,\n",
    "    51:5, 52:5, 61:6, 62:6, 63:6,\n",
    "}\n",
    "#anthrome_dict[df['anthrome'][0]]"
   ]
  },
  {
   "cell_type": "code",
   "execution_count": 5,
   "metadata": {},
   "outputs": [],
   "source": [
    "df['anthrome'] = df['anthrome'].apply(lambda x:anthrome_dict[x] )\n",
    "#df['anthrome_2001'] "
   ]
  },
  {
   "cell_type": "code",
   "execution_count": 12,
   "metadata": {},
   "outputs": [
    {
     "data": {
      "text/plain": [
       "3"
      ]
     },
     "execution_count": 12,
     "metadata": {},
     "output_type": "execute_result"
    }
   ],
   "source": [
    "i=0\n",
    "int(df.values[i][0])"
   ]
  },
  {
   "cell_type": "code",
   "execution_count": 6,
   "metadata": {},
   "outputs": [
    {
     "name": "stderr",
     "output_type": "stream",
     "text": [
      "100%|█████████████████████████████████████████████████████████████████████████████| 9000/9000 [01:24<00:00, 106.75it/s]\n"
     ]
    }
   ],
   "source": [
    "from tqdm import tqdm\n",
    "#X = []\n",
    "X = np.zeros(( len(df.values[:]) ,13,14))\n",
    "for i in tqdm(range(len(df.values[:]))):\n",
    "    X[i,:,0] = df.values[i][1:14] #prec\n",
    "    X[i,:,1] = df.values[i][14:27] #pop\n",
    "    X[i,:,2] = df.values[i][31:44] #tmean\n",
    "    X[i,:,3] = df.values[i][27]\n",
    "    X[i,:,4] = df.values[i][28]\n",
    "    X[i,:,5] = df.values[i][29]\n",
    "    X[i,:,6] = df.values[i][30]\n",
    "    X[i,:,7+int(df.values[i][0])] = 1\n",
    "    \n"
   ]
  },
  {
   "cell_type": "code",
   "execution_count": 16,
   "metadata": {},
   "outputs": [
    {
     "data": {
      "text/plain": [
       "(9000, 13, 14)"
      ]
     },
     "execution_count": 16,
     "metadata": {},
     "output_type": "execute_result"
    }
   ],
   "source": [
    "len(X)\n",
    "X.shape"
   ]
  },
  {
   "cell_type": "code",
   "execution_count": 7,
   "metadata": {},
   "outputs": [],
   "source": [
    "from sklearn.preprocessing import StandardScaler\n",
    "sc_prec = StandardScaler()\n",
    "sc_tmean = StandardScaler()\n",
    "sc_soil = StandardScaler()\n",
    "sc_pop = StandardScaler()\n",
    "\n",
    "sc_prec.fit(X[:,:,0])\n",
    "X[:,:,0] = sc_prec.transform(X[:,:,0])\n",
    "sc_tmean.fit(X[:,:,2])\n",
    "X[:,:,2] = sc_tmean.transform(X[:,:,2])\n",
    "sc_pop.fit(X[:,:,1])\n",
    "X[:,:,1] = sc_pop.transform(X[:,:,1])\n",
    "sc_soil.fit(X[:,:,3])\n",
    "X[:,:,3] = sc_soil.transform(X[:,:,3])\n",
    "X[:,:,4] = sc_soil.transform(X[:,:,4])\n",
    "X[:,:,5] = sc_soil.transform(X[:,:,5])\n",
    "X[:,:,6] = sc_soil.transform(X[:,:,6])"
   ]
  },
  {
   "cell_type": "code",
   "execution_count": 27,
   "metadata": {},
   "outputs": [
    {
     "data": {
      "text/plain": [
       "array([-0.17279622, -0.12786129, -0.48601196, -0.09902182,  5.95388374,\n",
       "       -3.06285834, -2.22797482,  0.        ,  0.        ,  1.        ,\n",
       "        0.        ,  0.        ,  0.        ,  0.        ])"
      ]
     },
     "execution_count": 27,
     "metadata": {},
     "output_type": "execute_result"
    }
   ],
   "source": [
    "X[1,1,:]"
   ]
  },
  {
   "cell_type": "code",
   "execution_count": 8,
   "metadata": {},
   "outputs": [],
   "source": [
    "from sklearn.model_selection import train_test_split\n",
    "X_train, X_test, y_train, y_test = train_test_split(X, y, test_size=0.2, random_state=42)"
   ]
  },
  {
   "cell_type": "code",
   "execution_count": 29,
   "metadata": {},
   "outputs": [
    {
     "data": {
      "text/plain": [
       "7200"
      ]
     },
     "execution_count": 29,
     "metadata": {},
     "output_type": "execute_result"
    }
   ],
   "source": [
    "len(X_train)"
   ]
  },
  {
   "cell_type": "code",
   "execution_count": 9,
   "metadata": {},
   "outputs": [],
   "source": [
    "import tensorflow as tf\n",
    "from tensorflow import keras\n",
    "from tensorflow.keras.layers import Conv1D, MaxPooling1D, Dropout, Flatten, BatchNormalization, Dense, Input, AveragePooling1D\n",
    "from tensorflow.keras import Model, Sequential"
   ]
  },
  {
   "cell_type": "code",
   "execution_count": 10,
   "metadata": {},
   "outputs": [],
   "source": [
    "model = Sequential()\n",
    "model.add(Conv1D(12, 4, activation=\"relu\",input_shape = (13, 14) ) )\n",
    "model.add(MaxPooling1D())\n",
    "model.add(Conv1D(24, 4, activation=\"relu\"))\n",
    "model.add(MaxPooling1D())\n",
    "model.add(Flatten())\n",
    "model.add(Dropout(0.3))\n",
    "model.add(Dense(256, activation=\"relu\"))\n",
    "model.add(Dense(128, activation=\"relu\"))\n",
    "model.add(Dense(1, activation=\"sigmoid\"))"
   ]
  },
  {
   "cell_type": "code",
   "execution_count": 11,
   "metadata": {},
   "outputs": [
    {
     "name": "stdout",
     "output_type": "stream",
     "text": [
      "Model: \"sequential\"\n",
      "_________________________________________________________________\n",
      "Layer (type)                 Output Shape              Param #   \n",
      "=================================================================\n",
      "conv1d (Conv1D)              (None, 10, 12)            684       \n",
      "_________________________________________________________________\n",
      "max_pooling1d (MaxPooling1D) (None, 5, 12)             0         \n",
      "_________________________________________________________________\n",
      "conv1d_1 (Conv1D)            (None, 2, 24)             1176      \n",
      "_________________________________________________________________\n",
      "max_pooling1d_1 (MaxPooling1 (None, 1, 24)             0         \n",
      "_________________________________________________________________\n",
      "flatten (Flatten)            (None, 24)                0         \n",
      "_________________________________________________________________\n",
      "dropout (Dropout)            (None, 24)                0         \n",
      "_________________________________________________________________\n",
      "dense (Dense)                (None, 256)               6400      \n",
      "_________________________________________________________________\n",
      "dense_1 (Dense)              (None, 128)               32896     \n",
      "_________________________________________________________________\n",
      "dense_2 (Dense)              (None, 1)                 129       \n",
      "=================================================================\n",
      "Total params: 41,285\n",
      "Trainable params: 41,285\n",
      "Non-trainable params: 0\n",
      "_________________________________________________________________\n"
     ]
    }
   ],
   "source": [
    "model.compile(loss='binary_crossentropy', optimizer='adam',metrics=['accuracy'])\n",
    "model.summary()"
   ]
  },
  {
   "cell_type": "code",
   "execution_count": 12,
   "metadata": {},
   "outputs": [
    {
     "name": "stdout",
     "output_type": "stream",
     "text": [
      "Epoch 1/15\n",
      "288/288 [==============================] - 4s 4ms/step - loss: 0.2499 - accuracy: 0.9272 - val_loss: 0.1856 - val_accuracy: 0.9528\n",
      "Epoch 2/15\n",
      "288/288 [==============================] - 0s 1ms/step - loss: 0.2022 - accuracy: 0.9471 - val_loss: 0.1835 - val_accuracy: 0.9528\n",
      "Epoch 3/15\n",
      "288/288 [==============================] - 0s 1ms/step - loss: 0.1971 - accuracy: 0.9471 - val_loss: 0.1834 - val_accuracy: 0.9528\n",
      "Epoch 4/15\n",
      "288/288 [==============================] - 0s 1ms/step - loss: 0.1932 - accuracy: 0.9471 - val_loss: 0.1838 - val_accuracy: 0.9528\n",
      "Epoch 5/15\n",
      "288/288 [==============================] - 0s 1ms/step - loss: 0.1908 - accuracy: 0.9471 - val_loss: 0.1846 - val_accuracy: 0.9528\n",
      "Epoch 6/15\n",
      "288/288 [==============================] - 0s 1ms/step - loss: 0.1911 - accuracy: 0.9471 - val_loss: 0.1819 - val_accuracy: 0.9528\n",
      "Epoch 7/15\n",
      "288/288 [==============================] - 0s 1ms/step - loss: 0.1903 - accuracy: 0.9471 - val_loss: 0.1816 - val_accuracy: 0.9528\n",
      "Epoch 8/15\n",
      "288/288 [==============================] - 0s 1ms/step - loss: 0.1890 - accuracy: 0.9471 - val_loss: 0.1825 - val_accuracy: 0.9528\n",
      "Epoch 9/15\n",
      "288/288 [==============================] - 0s 1ms/step - loss: 0.1877 - accuracy: 0.9471 - val_loss: 0.1814 - val_accuracy: 0.9528\n",
      "Epoch 10/15\n",
      "288/288 [==============================] - 0s 1ms/step - loss: 0.1872 - accuracy: 0.9471 - val_loss: 0.1809 - val_accuracy: 0.9528\n",
      "Epoch 11/15\n",
      "288/288 [==============================] - 0s 1ms/step - loss: 0.1869 - accuracy: 0.9471 - val_loss: 0.1802 - val_accuracy: 0.9528\n",
      "Epoch 12/15\n",
      "288/288 [==============================] - 0s 1ms/step - loss: 0.1851 - accuracy: 0.9471 - val_loss: 0.1829 - val_accuracy: 0.9528\n",
      "Epoch 13/15\n",
      "288/288 [==============================] - 0s 2ms/step - loss: 0.1847 - accuracy: 0.9471 - val_loss: 0.1818 - val_accuracy: 0.9528\n",
      "Epoch 14/15\n",
      "288/288 [==============================] - 0s 1ms/step - loss: 0.1844 - accuracy: 0.9471 - val_loss: 0.1809 - val_accuracy: 0.9528\n",
      "Epoch 15/15\n",
      "288/288 [==============================] - 0s 1ms/step - loss: 0.1853 - accuracy: 0.9471 - val_loss: 0.1795 - val_accuracy: 0.9528\n"
     ]
    },
    {
     "data": {
      "text/plain": [
       "<tensorflow.python.keras.callbacks.History at 0x2224ab81320>"
      ]
     },
     "execution_count": 12,
     "metadata": {},
     "output_type": "execute_result"
    }
   ],
   "source": [
    "model.fit(X_train, y_train, epochs = 15, batch_size=25 ,shuffle=False,validation_data=(X_test, y_test))"
   ]
  },
  {
   "cell_type": "code",
   "execution_count": 36,
   "metadata": {},
   "outputs": [
    {
     "name": "stderr",
     "output_type": "stream",
     "text": [
      "c:\\users\\hp\\appdata\\local\\programs\\python\\python37\\lib\\site-packages\\tensorflow\\python\\keras\\engine\\sequential.py:450: UserWarning: `model.predict_classes()` is deprecated and will be removed after 2021-01-01. Please use instead:* `np.argmax(model.predict(x), axis=-1)`,   if your model does multi-class classification   (e.g. if it uses a `softmax` last-layer activation).* `(model.predict(x) > 0.5).astype(\"int32\")`,   if your model does binary classification   (e.g. if it uses a `sigmoid` last-layer activation).\n",
      "  warnings.warn('`model.predict_classes()` is deprecated and '\n"
     ]
    },
    {
     "name": "stdout",
     "output_type": "stream",
     "text": [
      "[[6838    0]\n",
      " [ 362    0]]\n",
      "              precision    recall  f1-score   support\n",
      "\n",
      "           0       0.95      1.00      0.97      6838\n",
      "           1       0.00      0.00      0.00       362\n",
      "\n",
      "    accuracy                           0.95      7200\n",
      "   macro avg       0.47      0.50      0.49      7200\n",
      "weighted avg       0.90      0.95      0.93      7200\n",
      "\n",
      "0.9497222222222222\n"
     ]
    },
    {
     "name": "stderr",
     "output_type": "stream",
     "text": [
      "c:\\users\\hp\\appdata\\local\\programs\\python\\python37\\lib\\site-packages\\sklearn\\metrics\\_classification.py:1248: UndefinedMetricWarning: Precision and F-score are ill-defined and being set to 0.0 in labels with no predicted samples. Use `zero_division` parameter to control this behavior.\n",
      "  _warn_prf(average, modifier, msg_start, len(result))\n",
      "c:\\users\\hp\\appdata\\local\\programs\\python\\python37\\lib\\site-packages\\sklearn\\metrics\\_classification.py:1248: UndefinedMetricWarning: Precision and F-score are ill-defined and being set to 0.0 in labels with no predicted samples. Use `zero_division` parameter to control this behavior.\n",
      "  _warn_prf(average, modifier, msg_start, len(result))\n",
      "c:\\users\\hp\\appdata\\local\\programs\\python\\python37\\lib\\site-packages\\sklearn\\metrics\\_classification.py:1248: UndefinedMetricWarning: Precision and F-score are ill-defined and being set to 0.0 in labels with no predicted samples. Use `zero_division` parameter to control this behavior.\n",
      "  _warn_prf(average, modifier, msg_start, len(result))\n"
     ]
    }
   ],
   "source": [
    "from sklearn.metrics import classification_report, confusion_matrix, accuracy_score\n",
    "predictions = model.predict_classes(X_train)\n",
    "\n",
    "print(confusion_matrix(y_train,predictions))  \n",
    "print(classification_report(y_train,predictions))  \n",
    "print(accuracy_score(y_train, predictions))"
   ]
  },
  {
   "cell_type": "code",
   "execution_count": 35,
   "metadata": {},
   "outputs": [
    {
     "name": "stdout",
     "output_type": "stream",
     "text": [
      "[[1715    0]\n",
      " [  85    0]]\n",
      "              precision    recall  f1-score   support\n",
      "\n",
      "           0       0.95      1.00      0.98      1715\n",
      "           1       0.00      0.00      0.00        85\n",
      "\n",
      "    accuracy                           0.95      1800\n",
      "   macro avg       0.48      0.50      0.49      1800\n",
      "weighted avg       0.91      0.95      0.93      1800\n",
      "\n",
      "0.9527777777777777\n"
     ]
    },
    {
     "name": "stderr",
     "output_type": "stream",
     "text": [
      "c:\\users\\hp\\appdata\\local\\programs\\python\\python37\\lib\\site-packages\\sklearn\\metrics\\_classification.py:1248: UndefinedMetricWarning: Precision and F-score are ill-defined and being set to 0.0 in labels with no predicted samples. Use `zero_division` parameter to control this behavior.\n",
      "  _warn_prf(average, modifier, msg_start, len(result))\n",
      "c:\\users\\hp\\appdata\\local\\programs\\python\\python37\\lib\\site-packages\\sklearn\\metrics\\_classification.py:1248: UndefinedMetricWarning: Precision and F-score are ill-defined and being set to 0.0 in labels with no predicted samples. Use `zero_division` parameter to control this behavior.\n",
      "  _warn_prf(average, modifier, msg_start, len(result))\n",
      "c:\\users\\hp\\appdata\\local\\programs\\python\\python37\\lib\\site-packages\\sklearn\\metrics\\_classification.py:1248: UndefinedMetricWarning: Precision and F-score are ill-defined and being set to 0.0 in labels with no predicted samples. Use `zero_division` parameter to control this behavior.\n",
      "  _warn_prf(average, modifier, msg_start, len(result))\n"
     ]
    }
   ],
   "source": [
    "predictions = model.predict_classes(X_test)\n",
    "\n",
    "print(confusion_matrix(y_test,predictions))  \n",
    "print(classification_report(y_test,predictions))  \n",
    "print(accuracy_score(y_test, predictions))"
   ]
  },
  {
   "cell_type": "code",
   "execution_count": null,
   "metadata": {},
   "outputs": [],
   "source": []
  }
 ],
 "metadata": {
  "kernelspec": {
   "display_name": "Python 3",
   "language": "python",
   "name": "python3"
  },
  "language_info": {
   "codemirror_mode": {
    "name": "ipython",
    "version": 3
   },
   "file_extension": ".py",
   "mimetype": "text/x-python",
   "name": "python",
   "nbconvert_exporter": "python",
   "pygments_lexer": "ipython3",
   "version": "3.7.3"
  }
 },
 "nbformat": 4,
 "nbformat_minor": 2
}
